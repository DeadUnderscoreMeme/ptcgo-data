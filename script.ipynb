{
 "metadata": {
  "language_info": {
   "codemirror_mode": {
    "name": "ipython",
    "version": 3
   },
   "file_extension": ".py",
   "mimetype": "text/x-python",
   "name": "python",
   "nbconvert_exporter": "python",
   "pygments_lexer": "ipython3",
   "version": "3.8.5-final"
  },
  "orig_nbformat": 2,
  "kernelspec": {
   "name": "python3",
   "display_name": "Python 3.8.5 64-bit",
   "metadata": {
    "interpreter": {
     "hash": "916dbcbb3f70747c44a77c7bcd40155683ae19c65e1c03b4aa3499c5328201f1"
    }
   }
  }
 },
 "nbformat": 4,
 "nbformat_minor": 2,
 "cells": [
  {
   "cell_type": "code",
   "execution_count": 19,
   "metadata": {},
   "outputs": [],
   "source": [
    "import json\n",
    "with open('./en_US/swsh45svcopy.json','r') as inputFile:\n",
    "    data = json.load(inputFile)\n",
    "    for item in data:\n",
    "        new_id = str((int(item['id'][item['id'].index('-')+1:])-73)).zfill(3)\n",
    "        item['id'] = (str('swsh45sv-SV'+new_id))\n",
    "        item['number'] = \"SV\" + new_id\n",
    "    with open('./en_US/swsh45sv.json','w') as outFile:\n",
    "        outFile.write(json.dumps(data, ensure_ascii=False))"
   ]
  },
  {
   "cell_type": "code",
   "execution_count": null,
   "metadata": {},
   "outputs": [],
   "source": []
  }
 ]
}